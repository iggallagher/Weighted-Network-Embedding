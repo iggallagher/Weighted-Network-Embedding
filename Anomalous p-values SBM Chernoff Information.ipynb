{
 "cells": [
  {
   "cell_type": "code",
   "execution_count": 1,
   "id": "10e89df1",
   "metadata": {},
   "outputs": [],
   "source": [
    "import numpy as np\n",
    "import spectral_embedding as se\n",
    "import matplotlib as mpl\n",
    "import matplotlib.pyplot as plt\n",
    "\n",
    "from itertools import product\n",
    "from matplotlib import ticker, cm\n",
    "from scipy.optimize import minimize"
   ]
  },
  {
   "cell_type": "markdown",
   "id": "8b3f79c3",
   "metadata": {},
   "source": [
    "We consider a weighted two-community stochastic block model with the communities corresponding to anomalous nodes ($\\mathbf{Z}_i = 1$) and normal nodes ($\\mathbf{Z}_i = 2$). Edge weights are drawn from a one-inflated beta distribution,\n",
    "$$\n",
    "    \\mathbf{A}_{ij} \\mid \\mathbf{Z}_i, \\mathbf{Z}_j  \\stackrel{\\mathrm{ind}}{\\sim} \n",
    "    (1 - \\rho) \\delta_1  + \\rho \\, \\textrm{Beta}(\\alpha_{\\mathbf{Z}_i \\mathbf{Z}_j}, 1).\n",
    "$$\n",
    "\n",
    "$\\pi$ denotes the proability that a node is anomalous, $\\rho$ denotes the one-inflation parameter, the chance that a p-value is computed for that edge. In this experiment we assume that the most general case and have both $\\alpha_{11}, \\alpha_{12} < 1$ although $\\alpha_{22} = 1$ for normal nodes. In this case, the block mean and variance matrices after transformations has the form,\n",
    "$$\n",
    "    B = \\left( \\begin{array}{cc}\n",
    "        b_1 & b_2 \\\\\n",
    "        b_2 & b_3\n",
    "        \\end{array} \\right), \\quad\n",
    "    C = \\left( \\begin{array}{cc}\n",
    "        c_1 & c_2 \\\\\n",
    "        c_2 & c_3\n",
    "        \\end{array} \\right).\n",
    "$$\n",
    "In this case, the size-adjusted Chernoff information cannot be calculated in a closed-form and we have to perform the optimisation numerically using the following functions for the Renyi divergence."
   ]
  },
  {
   "cell_type": "code",
   "execution_count": 2,
   "id": "abee7038",
   "metadata": {},
   "outputs": [],
   "source": [
    "def logit(x):\n",
    "    return 1/(1 + np.exp(-x))"
   ]
  },
  {
   "cell_type": "code",
   "execution_count": 3,
   "id": "831da0ef",
   "metadata": {},
   "outputs": [],
   "source": [
    "def Renyi_Divergence(t, pi, b1, b2, b3, c1, c2, c3):   \n",
    "    if (c1 == 0 and c2 == 0) or (c2 == 0 and c3 == 0):\n",
    "        return 0.0\n",
    "    else:\n",
    "        return 0.5*t*(1-t)*(pi*(b1-b2)**2/((1-t)*c1 + t*c2) + (1-pi)*(b2-b3)**2/((1-t)*c2 + t*c3))"
   ]
  },
  {
   "cell_type": "code",
   "execution_count": 4,
   "id": "8512ab58",
   "metadata": {},
   "outputs": [],
   "source": [
    "def fThres(x, params):\n",
    "    t = logit(x)\n",
    "    pi, b1, b2, b3, c1, c2, c3 = params\n",
    "    return -Renyi_Divergence(t, pi, b1, b2, b3, c1, c2, c3)"
   ]
  },
  {
   "cell_type": "markdown",
   "id": "b7d080b3",
   "metadata": {},
   "source": [
    "Determine the values of $\\pi$ and $\\rho$ that we wish to analyse. For each pair of these parameters, construct a grid of values for $\\alpha_{11}$ and $\\alpha_{12}$. For every combination of parameter, construct the Chernoff information for the p-values directly, the log p-values, and threshold p-values using thresholds $\\tau = 0.1, 0.05, 0.01$.\n",
    "\n",
    "Note that this code can be quite time-consuming depending on the resolution for the $\\alpha$ parameter grid. The following uses a small number in each dimension (25), although the example plot in the paper uses a higher value (250)."
   ]
  },
  {
   "cell_type": "code",
   "execution_count": 5,
   "id": "8548fb27",
   "metadata": {},
   "outputs": [],
   "source": [
    "pis = [0.1, 0.5]\n",
    "rhos = [0.05, 0.25, 0.50]\n",
    "n_pi = len(pis)\n",
    "n_rho = len(rhos)\n",
    "\n",
    "n_alpha = 25\n",
    "n_beta = 25\n",
    "alphas = np.linspace(1/(2*n_alpha), 1-1/(2*n_alpha), n_alpha)\n",
    "betas = np.linspace(1/(2*n_beta), 1-1/(2*n_beta), n_beta)"
   ]
  },
  {
   "cell_type": "code",
   "execution_count": 6,
   "id": "fc689b2f",
   "metadata": {},
   "outputs": [],
   "source": [
    "CIs_Raw = np.zeros((n_pi, n_rho, n_alpha, n_beta))\n",
    "\n",
    "for (j, k, l) in product(range(n_rho), range(n_alpha), range(n_beta)):\n",
    "    rho = rhos[j]\n",
    "    alpha = alphas[k]\n",
    "    beta = betas[l]\n",
    "\n",
    "    b1 = 1 / (alpha+1); bp1 = rho*b1 \n",
    "    b2 = 1 / (beta+1); bp2 = rho*b2\n",
    "    b3 = 1/2; bp3 = rho*b3\n",
    "    c1 = alpha / ((alpha+2)*(alpha+1)**2); cp1 = rho*c1 + rho*(1-rho)*b1**2\n",
    "    c2 = beta / ((beta+2)*(beta+1)**2); cp2 = rho*c2 + rho*(1-rho)*b2**2\n",
    "    c3 = 1/12; cp3 = rho*c3 + rho*(1-rho)*b3**2\n",
    "    \n",
    "    for i in range(n_pi):\n",
    "        pi = pis[i]\n",
    "        res = minimize(fThres, 0.0, [pi, bp1, bp2, bp3, cp1, cp2, cp3], method='TNC', tol=1e-10)\n",
    "        CIs_Raw[i,j,k,l] = -res.fun[0]"
   ]
  },
  {
   "cell_type": "code",
   "execution_count": 7,
   "id": "239bdc98",
   "metadata": {},
   "outputs": [],
   "source": [
    "CIs_Log = np.zeros((n_pi, n_rho, n_alpha, n_beta))\n",
    "\n",
    "for (j, k, l) in product(range(n_rho), range(n_alpha), range(n_beta)):\n",
    "    rho = rhos[j]\n",
    "    alpha = alphas[k]\n",
    "    beta = betas[l]\n",
    "    \n",
    "    b1 = alpha; bp1 = rho*b1\n",
    "    b2 = beta; bp2 = rho*b2\n",
    "    b3 = 1; bp3 = rho*b3\n",
    "    c1 = alpha**2; cp1 = rho*c1 + rho*(1-rho)*b1**2\n",
    "    c2 = beta**2; cp2 = rho*c2 + rho*(1-rho)*b2**2\n",
    "    c3 = 1; cp3 = rho*c3 + rho*(1-rho)*b3**2\n",
    "    \n",
    "    for i in range(n_pi):\n",
    "        pi = pis[i]\n",
    "        res = minimize(fThres, 0.0, [pi, bp1, bp2, bp3, cp1, cp2, cp3], method='TNC', tol=1e-10)\n",
    "        CIs_Log[i,j,k,l] = -res.fun[0]"
   ]
  },
  {
   "cell_type": "code",
   "execution_count": null,
   "id": "321f6ab9",
   "metadata": {},
   "outputs": [],
   "source": [
    "CIs_010 = np.zeros((n_pi, n_rho, n_alpha, n_beta))\n",
    "\n",
    "for (j, k, l) in product(range(n_rho), range(n_alpha), range(n_beta)):\n",
    "    rho = rhos[j]\n",
    "    alpha = alphas[k]\n",
    "    beta = betas[l]\n",
    "    \n",
    "    b1 = 0.10**alpha; bp1 = rho*b1\n",
    "    b2 = 0.10**beta; bp2 = rho*b2\n",
    "    b3 = 0.10; bp3 = rho*b3\n",
    "    c1 = 0.10**alpha * (1-0.10**alpha); cp1 = rho*c1 + rho*(1-rho)*b1**2\n",
    "    c2 = 0.10**beta * (1-0.10**beta); cp2 = rho*c2 + rho*(1-rho)*b2**2\n",
    "    c3 = 0.10*(1-0.10); cp3 = rho*c3 + rho*(1-rho)*b3**2   \n",
    "    \n",
    "    for i in range(n_pi):\n",
    "        pi = pis[i]\n",
    "        res = minimize(fThres, 0.0, [pi, bp1, bp2, bp3, cp1, cp2, cp3], method='TNC', tol=1e-10)\n",
    "        CIs_010[i,j,k,l] = -res.fun[0]"
   ]
  },
  {
   "cell_type": "code",
   "execution_count": null,
   "id": "a49f4f0d",
   "metadata": {},
   "outputs": [],
   "source": [
    "CIs_005 = np.zeros((n_pi, n_rho, n_alpha, n_beta))\n",
    "\n",
    "for (j, k, l) in product(range(n_rho), range(n_alpha), range(n_beta)):\n",
    "    rho = rhos[j]\n",
    "    alpha = alphas[k]\n",
    "    beta = betas[l]\n",
    "    \n",
    "    b1 = 0.05**alpha; bp1 = rho*b1\n",
    "    b2 = 0.05**beta; bp2 = rho*b2\n",
    "    b3 = 0.05; bp3 = rho*b3\n",
    "    c1 = 0.05**alpha * (1-0.05**alpha); cp1 = rho*c1 + rho*(1-rho)*b1**2\n",
    "    c2 = 0.05**beta * (1-0.05**beta); cp2 = rho*c2 + rho*(1-rho)*b2**2\n",
    "    c3 = 0.05*(1-0.05); cp3 = rho*c3 + rho*(1-rho)*b3**2   \n",
    "    \n",
    "    for i in range(n_pi):\n",
    "        pi = pis[i]\n",
    "        res = minimize(fThres, 0.0, [pi, bp1, bp2, bp3, cp1, cp2, cp3], method='TNC', tol=1e-10)\n",
    "        CIs_005[i,j,k,l] = -res.fun[0]"
   ]
  },
  {
   "cell_type": "code",
   "execution_count": null,
   "id": "153f54e3",
   "metadata": {},
   "outputs": [],
   "source": [
    "CIs_001 = np.zeros((n_pi, n_rho, n_alpha, n_beta))\n",
    "\n",
    "for (j, k, l) in product(range(n_rho), range(n_alpha), range(n_beta)):\n",
    "    rho = rhos[j]\n",
    "    alpha = alphas[k]\n",
    "    beta = betas[l]\n",
    "    \n",
    "    b1 = 0.01**alpha; bp1 = rho*b1\n",
    "    b2 = 0.01**beta; bp2 = rho*b2\n",
    "    b3 = 0.01; bp3 = rho*b3\n",
    "    c1 = 0.01**alpha * (1-0.01**alpha); cp1 = rho*c1 + rho*(1-rho)*b1**2\n",
    "    c2 = 0.01**beta * (1-0.01**beta); cp2 = rho*c2 + rho*(1-rho)*b2**2\n",
    "    c3 = 0.01*(1-0.01); cp3 = rho*c3 + rho*(1-rho)*b3**2   \n",
    "    \n",
    "    for i in range(n_pi):\n",
    "        pi = pis[i]\n",
    "        res = minimize(fThres, 0.0, [pi, bp1, bp2, bp3, cp1, cp2, cp3], method='TNC', tol=1e-10)\n",
    "        CIs_001[i,j,k,l] = -res.fun[0]"
   ]
  },
  {
   "cell_type": "markdown",
   "id": "38f5f112",
   "metadata": {},
   "source": [
    "For the five different representations for the p-values, determine which gives the best Chernoff information for that particular tuple of parameter values."
   ]
  },
  {
   "cell_type": "code",
   "execution_count": null,
   "id": "3e44bd2b",
   "metadata": {},
   "outputs": [],
   "source": [
    "CIs_Regs = np.zeros((n_pi, n_rho, n_alpha, n_beta))\n",
    "\n",
    "for (i, j, k, l) in product(range(n_pi), range(n_rho), range(n_alpha), range(n_beta)):\n",
    "    CIs_Regs[i,j,k,l] = np.argmax([CIs_Raw[i,j,k,l], CIs_Log[i,j,k,l], CIs_001[i,j,k,l], \n",
    "                                   CIs_005[i,j,k,l], CIs_010[i,j,k,l]])"
   ]
  },
  {
   "cell_type": "markdown",
   "id": "476e7ac6",
   "metadata": {},
   "source": [
    "Prepare the colour palette for the plots."
   ]
  },
  {
   "cell_type": "code",
   "execution_count": null,
   "id": "d5aa19c8",
   "metadata": {},
   "outputs": [],
   "source": [
    "contour_cols = ['tab:red', 'white', \n",
    "                plt.get_cmap('Blues')(0.3), plt.get_cmap('Blues')(0.5), plt.get_cmap('Blues')(0.7)]"
   ]
  },
  {
   "cell_type": "code",
   "execution_count": null,
   "id": "3458b697",
   "metadata": {},
   "outputs": [],
   "source": [
    "fig = plt.figure()\n",
    "handles = [plt.scatter([],[], color=contour_cols[1], marker='o', s=16, edgecolors='black', label=r'Log p-values'),\n",
    "           plt.scatter([],[], color=contour_cols[2], marker='o', s=16, label=r'Threshold 0.01'),\n",
    "           plt.scatter([],[], color=contour_cols[3], marker='o', s=16, label=r'Threshold 0.05'),\n",
    "           plt.scatter([],[], color=contour_cols[4], marker='o', s=16, label=r'Threshold 0.10')]\n",
    "plt.close()"
   ]
  },
  {
   "cell_type": "markdown",
   "id": "97ee424f",
   "metadata": {},
   "source": [
    "Plot the phase diagrams showing which p-value representation results in the greatest size-adjusted Chernoff information."
   ]
  },
  {
   "cell_type": "code",
   "execution_count": null,
   "id": "4f964f72",
   "metadata": {},
   "outputs": [],
   "source": [
    "X, Y = np.meshgrid(alphas, betas)\n",
    "\n",
    "fig, axs = plt.subplots(n_pi, n_rho, figsize=(12.0,8.0))\n",
    "levels = [-0.5,0.5,1.5,2.5,3.5,4.5]\n",
    "\n",
    "for (i, j) in product(range(n_pi), range(n_rho)):\n",
    "    csf = axs[i,j].contourf(X, Y, CIs_Regs[i,j].T, colors=contour_cols, levels=levels)\n",
    "    cs = axs[i,j].contour(X, Y, CIs_Regs[i,j].T, colors='k',\n",
    "                          linestyles=['-','-','-','-'], levels=[1.0,2.0,3.0,4.0])\n",
    "    axs[i,j].set_xticks(np.arange(0.25,1.0,0.25))\n",
    "    axs[i,j].set_yticks(np.arange(0.25,1.0,0.25))\n",
    "\n",
    "for i in range(n_pi):\n",
    "    axs[i,0].set_ylabel(r'$\\alpha_{12}$')\n",
    "\n",
    "for j in range(n_rho):\n",
    "    axs[n_pi-1,j].set_xlabel(r'$\\alpha_{11}$')  \n",
    "\n",
    "axs[0,0].set_title(r'a) $\\pi_1 = 0.1$, $\\rho = 0.05$', fontsize=13)\n",
    "axs[0,1].set_title(r'b) $\\pi_1 = 0.1$, $\\rho = 0.25$', fontsize=13)\n",
    "axs[0,2].set_title(r'c) $\\pi_1 = 0.1$, $\\rho = 0.50$', fontsize=13)\n",
    "axs[1,0].set_title(r'd) $\\pi_1 = 0.5$, $\\rho = 0.05$', fontsize=13)\n",
    "axs[1,1].set_title(r'e) $\\pi_1 = 0.5$, $\\rho = 0.25$', fontsize=13)\n",
    "axs[1,2].set_title(r'f) $\\pi_1 = 0.5$, $\\rho = 0.50$', fontsize=13)\n",
    "\n",
    "fig.legend(handles=handles, bbox_to_anchor=(0.5,0), loc='lower center', ncol=4, fancybox=True,\n",
    "           fontsize=12, handletextpad=0.1)\n",
    "plt.subplots_adjust(bottom = 0.12);"
   ]
  }
 ],
 "metadata": {
  "kernelspec": {
   "display_name": "Python 3 (ipykernel)",
   "language": "python",
   "name": "python3"
  },
  "language_info": {
   "codemirror_mode": {
    "name": "ipython",
    "version": 3
   },
   "file_extension": ".py",
   "mimetype": "text/x-python",
   "name": "python",
   "nbconvert_exporter": "python",
   "pygments_lexer": "ipython3",
   "version": "3.9.7"
  }
 },
 "nbformat": 4,
 "nbformat_minor": 5
}
