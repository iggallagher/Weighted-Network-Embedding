{
 "cells": [
  {
   "cell_type": "code",
   "execution_count": 1,
   "id": "74127cac",
   "metadata": {},
   "outputs": [],
   "source": [
    "import matplotlib.pyplot as plt\n",
    "import numpy as np\n",
    "import spectral_embedding as se"
   ]
  },
  {
   "cell_type": "code",
   "execution_count": 2,
   "id": "32561f98",
   "metadata": {},
   "outputs": [],
   "source": [
    "np.random.seed(42)"
   ]
  },
  {
   "cell_type": "markdown",
   "id": "3839016c",
   "metadata": {},
   "source": [
    "Generate a weighted stochastic block model with two equally likely communities where matrix entries are Gaussian random variables with block mean and variance matrices\n",
    "$$\n",
    "    \\mathbf{B} = \\left( \\begin{array}{cc}\n",
    "        1 & 1 \\\\\n",
    "        1 & 1\n",
    "    \\end{array} \\right), \\quad\n",
    "    \\mathbf{C} = \\left( \\begin{array}{cc}\n",
    "        2 & 1 \\\\\n",
    "        1 & 1\n",
    "    \\end{array} \\right).\n",
    "$$"
   ]
  },
  {
   "cell_type": "code",
   "execution_count": 3,
   "id": "69ba3b0d",
   "metadata": {},
   "outputs": [],
   "source": [
    "K = 2     # Number of communities\n",
    "n = 1000  # Number of nodes"
   ]
  },
  {
   "cell_type": "code",
   "execution_count": 4,
   "id": "93a15fd5",
   "metadata": {},
   "outputs": [],
   "source": [
    "pi = np.repeat(1/K, K)\n",
    "\n",
    "B = np.array([[1, 1],\n",
    "              [1, 1]])\n",
    "C = np.array([[2, 1],\n",
    "              [1, 1]])"
   ]
  },
  {
   "cell_type": "code",
   "execution_count": 5,
   "id": "74b7dde6",
   "metadata": {},
   "outputs": [],
   "source": [
    "A, Z = se.generate_WSBM(n, pi, [B, C], 'gaussian')"
   ]
  },
  {
   "cell_type": "markdown",
   "id": "e76607df",
   "metadata": {},
   "source": [
    "Colour the nodes based on the community labels."
   ]
  },
  {
   "cell_type": "code",
   "execution_count": 6,
   "id": "9b6592d6",
   "metadata": {},
   "outputs": [],
   "source": [
    "colours = np.array(['tab:blue', 'tab:red'])\n",
    "Z_colours = colours[Z]"
   ]
  },
  {
   "cell_type": "markdown",
   "id": "296d90e2",
   "metadata": {},
   "source": [
    "As the block mean matrix $\\mathbf{B}$ has rank one, embed the network into $d = 1$ dimensions."
   ]
  },
  {
   "cell_type": "code",
   "execution_count": 7,
   "id": "08fc8dfe",
   "metadata": {},
   "outputs": [],
   "source": [
    "XA = se.ASE(A, 1)"
   ]
  },
  {
   "cell_type": "markdown",
   "id": "c001dc7f",
   "metadata": {},
   "source": [
    "Create a violin plot to show the distribution of the embedding in the two communities. The means of the distributions are identical as the rows of the block mean matrix are the same resulting in $\\phi(1) = \\phi(2)$. However, the variances are different for the two communities."
   ]
  },
  {
   "cell_type": "code",
   "execution_count": 8,
   "id": "863b0a03",
   "metadata": {},
   "outputs": [
    {
     "data": {
      "image/png": "[encoded data removed]",
      "text/plain": [
       "<Figure size 259.2x259.2 with 1 Axes>"
      ]
     },
     "metadata": {
      "needs_background": "light"
     },
     "output_type": "display_data"
    }
   ],
   "source": [
    "fig, ax = plt.subplots(1, 1, figsize=(3.6,3.6))\n",
    "\n",
    "idx_0 = np.where(Z == 0)[0]\n",
    "idx_1 = np.where(Z == 1)[0]\n",
    "\n",
    "# Create violin plots\n",
    "parts = ax.violinplot([XA[idx_0,0], XA[idx_1,0]], showextrema=False, vert=False)\n",
    "\n",
    "for pc in parts['bodies']:\n",
    "    pc.set_facecolor('lightgrey')\n",
    "    pc.set_edgecolor('grey')\n",
    "    pc.set_alpha(1)\n",
    "\n",
    "# Create jitter plot for a sample set of points  \n",
    "n_sample = 200\n",
    "sample_0 = np.random.choice(np.where(Z == 0)[0], n_sample, replace=False)\n",
    "sample_1 = np.random.choice(np.where(Z == 1)[0], n_sample, replace=False)\n",
    "\n",
    "jitter_0 = 0.25*(np.random.random(n_sample)-0.5)\n",
    "jitter_1 = 0.25*(np.random.random(n_sample)-0.5)\n",
    "    \n",
    "ax.scatter(XA[sample_0,0], 1 + jitter_0, marker='^', s=8, c=Z_colours[sample_0])\n",
    "ax.scatter(XA[sample_1,0], 2 + jitter_1, marker='s', s=7, c=Z_colours[sample_1])   \n",
    "    \n",
    "ax.set_yticks([1, 2])\n",
    "ax.set_ylim(0.25, 2.75)\n",
    "ax.set_ylabel(r'Community assignment, $\\mathbf{Z}_i$')\n",
    "ax.set_title('Spectral embedding');"
   ]
  },
  {
   "cell_type": "markdown",
   "id": "d1f8a5bf",
   "metadata": {},
   "source": [
    "Compute the variances of the embedding for the two communities and show that this is equal to the predicted variance terms."
   ]
  },
  {
   "cell_type": "code",
   "execution_count": 9,
   "id": "36b8d1bb",
   "metadata": {},
   "outputs": [
    {
     "name": "stdout",
     "output_type": "stream",
     "text": [
      "Community 1 variance: 0.0015\n",
      "Community 2 variance: 0.001\n"
     ]
    }
   ],
   "source": [
    "print('Community 1 variance:', np.round(np.var(XA[Z == 0,0]), 4))\n",
    "print('Community 2 variance:', np.round(np.var(XA[Z == 1,0]), 4))"
   ]
  },
  {
   "cell_type": "code",
   "execution_count": 10,
   "id": "13cfeea3",
   "metadata": {},
   "outputs": [
    {
     "name": "stdout",
     "output_type": "stream",
     "text": [
      "Community 1 variance: 0.0015\n",
      "Community 2 variance: 0.001\n"
     ]
    }
   ],
   "source": [
    "X, SigmaX = se.WSBM_distbn(A, B, C, Z, pi, 1)\n",
    "print('Community 1 variance:', np.round(SigmaX[0,0,0]/n, 4))\n",
    "print('Community 2 variance:', np.round(SigmaX[1,0,0]/n, 4))"
   ]
  }
 ],
 "metadata": {
  "kernelspec": {
   "display_name": "Python 3 (ipykernel)",
   "language": "python",
   "name": "python3"
  },
  "language_info": {
   "codemirror_mode": {
    "name": "ipython",
    "version": 3
   },
   "file_extension": ".py",
   "mimetype": "text/x-python",
   "name": "python",
   "nbconvert_exporter": "python",
   "pygments_lexer": "ipython3",
   "version": "3.9.7"
  }
 },
 "nbformat": 4,
 "nbformat_minor": 5
}
